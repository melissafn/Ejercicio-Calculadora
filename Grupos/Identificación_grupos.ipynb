{
  "nbformat": 4,
  "nbformat_minor": 0,
  "metadata": {
    "colab": {
      "provenance": [],
      "authorship_tag": "ABX9TyMLGDJZfUudC/SBSNJcIdBw",
      "include_colab_link": true
    },
    "kernelspec": {
      "name": "python3",
      "display_name": "Python 3"
    },
    "language_info": {
      "name": "python"
    }
  },
  "cells": [
    {
      "cell_type": "markdown",
      "metadata": {
        "id": "view-in-github",
        "colab_type": "text"
      },
      "source": [
        "<a href=\"https://colab.research.google.com/github/melissafn/Ejercicio-Calculadora/blob/main/Grupos/Identificaci%C3%B3n_grupos.ipynb\" target=\"_parent\"><img src=\"https://colab.research.google.com/assets/colab-badge.svg\" alt=\"Open In Colab\"/></a>"
      ]
    },
    {
      "cell_type": "markdown",
      "source": [
        "# Identificación de grupos a través de tablas\n",
        "Un cuadrado latino es una matriz de n×n elementos en la que cada casilla está ocupada por uno de los n símbolos, de tal modo que cada uno de ellos aparece exactamente una vez en cada columna y en cada fila. El siguiente código toma como entrada los valores de una tabla de multiplicacion y determina si cumple con los axiomas de una estructura de grupo, y a su vez un cuadrado latino.\n",
        "1. Para verificar si existe un elemento que actua como la identidad o neutro se\n",
        "recorre la tabla con un ciclo for para encontrar una fila cuyos valores sean iguales a los correspondientes indices.\n",
        "\n",
        "2. Para comprobar que la operacion es cerrada se recorre la tabla de modo tal que se verifique que en cada fila y columna los valores estan dentro del rango de indices validos.\n",
        "\n",
        "3. Para la propiedad asociativa se toman 3 elementos y se comprueba que el valor en (i,j) y el valor en (j,k) son iguales al valor en (i,k). Si no se cumple lo anterior para cualesquiera 3 elementos en la tabla la funcion devuelve False.\n",
        "\n",
        "4. Para revisar que cada elemento tiene un inverso se itera sobre cada valor de la tabla, si el valor en (i,j) es igual a 1, se procede a comprobar que i y j tienen inversos buscando un elemento k tal que ik = ki = Id."
      ],
      "metadata": {
        "id": "FyqulIxQqfB3"
      }
    },
    {
      "cell_type": "code",
      "source": [
        "def check_group(tabla):\n",
        "    x = len(tabla)\n",
        "\n",
        "    # cerradura\n",
        "    for i in range(x):\n",
        "        for j in range(x):\n",
        "            if tabla[i][j] not in range(x):\n",
        "                return False\n",
        "\n",
        "    # elemento neutro\n",
        "    for i in range(x):\n",
        "        identidad = True\n",
        "        for j in range(x):\n",
        "            if tabla[i][j] != j or tabla[j][i] != j:\n",
        "                identidad = False\n",
        "                break\n",
        "        if identidad:\n",
        "            break\n",
        "    else:\n",
        "        return False\n",
        "    \n",
        "    # inverso para cada elemento\n",
        "    for i in range(x):\n",
        "        inverso = False\n",
        "        for j in range(x):\n",
        "            if tabla[i][j] == identidad and tabla[j][i] == identidad:\n",
        "                inverso = True\n",
        "                break\n",
        "        if not inverso:\n",
        "            return False\n",
        "\n",
        "    # asociatividad\n",
        "    for i in range(x):\n",
        "        for j in range(x):\n",
        "          for k in range(x):\n",
        "                if tabla[tabla[i][j]][k] != tabla[i][tabla[j][k]]:\n",
        "                    return False\n",
        "    return True"
      ],
      "metadata": {
        "id": "rnjBm9vcqwvd"
      },
      "execution_count": 1,
      "outputs": []
    },
    {
      "cell_type": "markdown",
      "source": [
        "**Ejemplo:**"
      ],
      "metadata": {
        "id": "f_AUv3Axq81m"
      }
    },
    {
      "cell_type": "code",
      "source": [
        "check_group([\n",
        "    [0, 1, 2, 3, 4],\n",
        "    [1, 2, 3, 4, 0],\n",
        "    [2, 3, 4, 0, 1],\n",
        "    [3, 4, 0, 1, 2],\n",
        "    [4, 0, 1, 2, 3]\n",
        "])\n",
        "     "
      ],
      "metadata": {
        "colab": {
          "base_uri": "https://localhost:8080/"
        },
        "id": "1JTQturjq_xa",
        "outputId": "24f155e3-8407-473b-92d8-c0a98b4cfdb1"
      },
      "execution_count": 2,
      "outputs": [
        {
          "output_type": "execute_result",
          "data": {
            "text/plain": [
              "True"
            ]
          },
          "metadata": {},
          "execution_count": 2
        }
      ]
    },
    {
      "cell_type": "code",
      "source": [
        "check_group( [\n",
        "    [1, 1, 2],\n",
        "    [1, 2, 0],\n",
        "    [2, 0, 1]\n",
        "])"
      ],
      "metadata": {
        "colab": {
          "base_uri": "https://localhost:8080/"
        },
        "id": "QHejuCLSrDFI",
        "outputId": "50e38788-6696-4ab2-bd15-f5361b32011e"
      },
      "execution_count": 3,
      "outputs": [
        {
          "output_type": "execute_result",
          "data": {
            "text/plain": [
              "False"
            ]
          },
          "metadata": {},
          "execution_count": 3
        }
      ]
    }
  ]
}
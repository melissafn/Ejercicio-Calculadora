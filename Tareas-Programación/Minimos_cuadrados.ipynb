{
  "nbformat": 4,
  "nbformat_minor": 0,
  "metadata": {
    "colab": {
      "provenance": [],
      "authorship_tag": "ABX9TyO0X7aqpUUmKeVS9XfYymCv",
      "include_colab_link": true
    },
    "kernelspec": {
      "name": "python3",
      "display_name": "Python 3"
    },
    "language_info": {
      "name": "python"
    }
  },
  "cells": [
    {
      "cell_type": "markdown",
      "metadata": {
        "id": "view-in-github",
        "colab_type": "text"
      },
      "source": [
        "<a href=\"https://colab.research.google.com/github/melissafn/Ejercicio-Calculadora/blob/main/Tareas-Programaci%C3%B3n/Minimos_cuadrados.ipynb\" target=\"_parent\"><img src=\"https://colab.research.google.com/assets/colab-badge.svg\" alt=\"Open In Colab\"/></a>"
      ]
    },
    {
      "cell_type": "markdown",
      "source": [
        "# Mínimos cuadrados\n",
        "Un número siempre se puede representar como una suma de cuadrados de otros números. Dado un número n, para hallar el mínimo número de cuadrados que sumen n utilizamos el teorema de los 4 cuadrados de Lagrange y el teorema de los tres cuadrados de Legendre. Tenemos 4 posibilidades: 1,2,3,4.\n",
        "\n",
        "1. La función devuelve 1 si el número ingresado es un cuadrado perfecto.\n",
        "\n",
        "2. Si n - (i * i) no es un cuadrado perfecto, entonces n no puede ser expresado como la suma de dos cuadrados perfectos, porque la identidad de Legendre establece que cada factor primo de n de la forma 4k + 3 debe ser un cuadrado perfecto y si n - (i * i) no es un cuadrado perfecto, entonces un factor primo de n de la forma 4k + 3 no tiene la forma de un cuadrado perfecto.\n",
        "\n",
        "3. Un entero positivo puede expresarse como la suma de tres cuadrados si y sólo si no es de la forma 4*k (8 m + 7).\n",
        "\n",
        "4. La funcion verifica si el número es de la forma 4*k(8m + 7), lo que indica que puede ser expresado como la suma de cuatro cuadrados.\n",
        "\n",
        "\n"
      ],
      "metadata": {
        "id": "XhcMzKfM8t_o"
      }
    },
    {
      "cell_type": "code",
      "execution_count": 49,
      "metadata": {
        "id": "7KL91vBQ8rtZ"
      },
      "outputs": [],
      "source": [
        "import math\n",
        " \n",
        "def esCuadrado(x):\n",
        "    raiz = int(math.sqrt(x));\n",
        "    return (raiz * raiz == x);\n",
        " \n",
        "def min_cuadrados(num):\n",
        "    # si número es un cuadrado perfecto\n",
        "    if (esCuadrado(num)):\n",
        "        return 1\n",
        "     \n",
        "   # si número puede expresarse como la suma de dos cuadrados perfectos\n",
        "    for i in range(1, int(math.sqrt(num))+1):\n",
        "        if (esCuadrado(num - (i * i))):\n",
        "            return 2\n",
        "         \n",
        "    # si número es de la forma 4^k (8m + 7)\n",
        "    while (num % 4 == 0):\n",
        "        num >>= 2;\n",
        "    if (num % 8 == 7):\n",
        "        return 4\n",
        "\n",
        "    # si ya se verificaron las condiciones anteriores\n",
        "    return 3"
      ]
    },
    {
      "cell_type": "markdown",
      "source": [
        "**Ejemplo:**"
      ],
      "metadata": {
        "id": "DliYGGgKEIon"
      }
    },
    {
      "cell_type": "code",
      "source": [
        "min_cuadrados(28)"
      ],
      "metadata": {
        "colab": {
          "base_uri": "https://localhost:8080/"
        },
        "id": "eu5QGkW884TB",
        "outputId": "a53de3e3-5c4a-4de9-f92f-a86c11e76e33"
      },
      "execution_count": 62,
      "outputs": [
        {
          "output_type": "execute_result",
          "data": {
            "text/plain": [
              "4"
            ]
          },
          "metadata": {},
          "execution_count": 62
        }
      ]
    }
  ]
}